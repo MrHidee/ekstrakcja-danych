{
 "cells": [
  {
   "cell_type": "code",
   "execution_count": null,
   "id": "c3e53cd3-2e73-41ed-bf88-71a0de112e6c",
   "metadata": {},
   "outputs": [],
   "source": [
    "!pip install torch torchvision torchaudio numpy --user\n",
    "!pip install easyocr --user\n",
    "!pip install opencv-python==4.5.5.64 --user\n",
    "!pip install os-sys --user\n",
    "!pip install ipywidgets --user\n",
    "!pip install pytesseract --user\n"
   ]
  },
  {
   "cell_type": "code",
   "execution_count": null,
   "id": "4be28a11-e6f5-4176-96d8-9a0e773400de",
   "metadata": {},
   "outputs": [],
   "source": [
    "import cv2\n",
    "import numpy as np\n",
    "from matplotlib import pyplot as plt\n",
    "import easyocr\n",
    "import pytesseract\n",
    "import sys\n",
    "import os\n",
    "from pytesseract import Output\n",
    "%matplotlib inline"
   ]
  },
  {
   "cell_type": "code",
   "execution_count": null,
   "id": "3a6e5f8e-7893-4692-b31f-55816bca6f94",
   "metadata": {},
   "outputs": [],
   "source": [
    "# Funkcje pomocnicze do wyświetlania obrazów\n",
    "def plot_gray(image):\n",
    "    \"\"\" Funkcja do wyświetlania obrazu w skali szarości \"\"\"\n",
    "    plt.figure(figsize=(16, 10))\n",
    "    plt.imshow(image, cmap='Greys_r')\n",
    "    plt.axis('off')\n",
    "    plt.show()"
   ]
  },
  {
   "cell_type": "code",
   "execution_count": null,
   "id": "a62c6787-939f-4004-b25e-da5fc65eb6d8",
   "metadata": {
    "jupyter": {
     "source_hidden": true
    },
    "tags": []
   },
   "outputs": [],
   "source": [
    "def plot_rgb(image):\n",
    "    \"\"\" Funkcja do wyświetlania obrazu w kolorach RGB \"\"\"\n",
    "    plt.figure(figsize=(16, 10))\n",
    "    plt.imshow(cv2.cvtColor(image, cv2.COLOR_BGR2RGB))\n",
    "    plt.axis('off')\n",
    "    plt.show()"
   ]
  },
  {
   "cell_type": "code",
   "execution_count": null,
   "id": "6aca33dd-4fcd-478e-bfcb-742a957e7ae4",
   "metadata": {},
   "outputs": [],
   "source": [
    "# Funkcja przetwarzania obrazu przed OCR\n",
    "\n",
    "def preprocess_image(image, scale_factor=1.5, blur_ksize=(5, 5)):\n",
    "    \"\"\" Funkcja przetwarzania obrazu przed OCR \"\"\"\n",
    "    height, width = image.shape[:2]\n",
    "    new_dimensions = (int(width * scale_factor), int(height * scale_factor))\n",
    "    image_resized = cv2.resize(image, new_dimensions)\n",
    "    image_blurred = cv2.GaussianBlur(image_resized, blur_ksize, 0)\n",
    "    _, image_thresholded = cv2.threshold(image_blurred, 150, 255, cv2.THRESH_BINARY_INV)\n",
    "    return image_thresholded\n"
   ]
  },
  {
   "cell_type": "code",
   "execution_count": null,
   "id": "6e1c83e9-0b29-4110-9f84-a509574d1be0",
   "metadata": {},
   "outputs": [],
   "source": [
    "# Wczytywanie obrazu\n",
    "\n",
    "file_name = \"P://a2.png\"  # Podanie scieżki pliku\n",
    "if not os.path.exists(file_name):\n",
    "    raise FileNotFoundError(f\"Nie znaleziono pliku: {file_name}\")\n",
    "image = cv2.imread(file_name, cv2.IMREAD_GRAYSCALE)\n",
    "plot_gray(image)"
   ]
  },
  {
   "cell_type": "code",
   "execution_count": null,
   "id": "3762bc1b-56f3-47e4-9ec2-cb02ebd19c2d",
   "metadata": {},
   "outputs": [],
   "source": [
    "# Wykrywanie tekstu za pomocą EasyOCR\n",
    "\n",
    "reader = easyocr.Reader(['pl'], gpu=True)\n",
    "result = reader.readtext(image)\n",
    "if result:\n",
    "    print(f\"EasyOCR Result: {result[0]}\")"
   ]
  },
  {
   "cell_type": "code",
   "execution_count": null,
   "id": "4f21e84d-b591-402c-801d-47afa517d6c6",
   "metadata": {},
   "outputs": [],
   "source": [
    "# Wykrywanie tekstu za pomocą pytesseract\n",
    "\n",
    "pytesseract.pytesseract.tesseract_cmd = r'C:\\Program Files\\Tesseract-OCR\\tesseract.exe'  #Ścieżka do Tesseract OCR\n",
    "d = pytesseract.image_to_data(image, output_type=Output.DICT)\n",
    "n_boxes = len(d['level'])\n",
    "boxes = cv2.cvtColor(image.copy(), cv2.COLOR_BGR2RGB)\n",
    "for i in range(n_boxes):\n",
    "    (x, y, w, h) = (d['left'][i], d['top'][i], d['width'][i], d['height'][i])\n",
    "    boxes = cv2.rectangle(boxes, (x, y), (x + w, y + h), (0, 255, 0), 1)\n",
    "plot_rgb(boxes)\n"
   ]
  },
  {
   "cell_type": "code",
   "execution_count": null,
   "id": "37038829-4113-4bd6-b259-013c71155360",
   "metadata": {},
   "outputs": [],
   "source": [
    "# Wykonywanie OCR z pytesseract w języku polskim\n",
    "\n",
    "eksport = pytesseract.image_to_string(image, lang='pol')\n",
    "print(\"OCR Result:\\n\", eksport)\n"
   ]
  },
  {
   "cell_type": "code",
   "execution_count": null,
   "id": "869bb071-3bc6-471a-81a8-1a43b96f8265",
   "metadata": {},
   "outputs": [],
   "source": [
    "output_file = \"P://przetowrzone1.txt\"\n",
    "with open(output_file, \"w\", encoding=\"utf-8\") as f:\n",
    "    f.write(eksport)\n",
    "print(f\"Tekst zapisano do pliku: {output_file}\")\n"
   ]
  },
  {
   "cell_type": "code",
   "execution_count": null,
   "id": "89d57197-8ebd-4965-b3bf-098d417faf2a",
   "metadata": {},
   "outputs": [],
   "source": [
    "!pip install pymongo --user\n"
   ]
  },
  {
   "cell_type": "code",
   "execution_count": null,
   "id": "faf1a818-8c23-42c3-b4f4-c986b42b9c33",
   "metadata": {},
   "outputs": [],
   "source": [
    "import pymongo\n",
    "from pymongo import MongoClient"
   ]
  },
  {
   "cell_type": "code",
   "execution_count": null,
   "id": "5f3785ce-b434-4ec1-84f4-02ca4624fb0a",
   "metadata": {},
   "outputs": [],
   "source": [
    "def export_to_mongo(eksport, db_name='ocr_database', collection_name='ocr_results'):\n",
    "    \"\"\" Funkcja eksportu wyników OCR do bazy danych MongoDB \"\"\"\n",
    "    try:\n",
    "        # Połączenie z lokalną bazą MongoDB (domyślny host: localhost, port: 27017)\n",
    "        client = MongoClient(\"mongodb://localhost:27017/\")\n",
    "        \n",
    "        # Dostęp do bazy danych\n",
    "        db = client[db_name]\n",
    "        \n",
    "        # Dostęp do kolekcji (tabeli)\n",
    "        collection = db[collection_name]\n",
    "        \n",
    "        # Przygotowanie dokumentu do zapisania w MongoDB\n",
    "        document = {\n",
    "            \"ocr_text\": eksport,\n",
    "            \n",
    "        }\n",
    "        \n",
    "        # Wstawienie dokumentu do kolekcji\n",
    "        collection.insert_one(document)\n",
    "        print(\"OCR data has been successfully exported to MongoDB.\")\n",
    "    except Exception as e:\n",
    "        print(f\"Error exporting to MongoDB: {e}\")\n"
   ]
  },
  {
   "cell_type": "code",
   "execution_count": null,
   "id": "6cc80d69-298a-45f5-a9b1-f05ea9c431aa",
   "metadata": {},
   "outputs": [],
   "source": [
    "# Funkcja do eksportu wyników OCR\n",
    "def process_and_export_to_mongo(image):\n",
    "# Eksport do MongoDB\n",
    "    export_to_mongo(eksport)\n",
    "    return eksport\n"
   ]
  },
  {
   "cell_type": "code",
   "execution_count": null,
   "id": "3766e2b5",
   "metadata": {},
   "outputs": [],
   "source": [
    "ocr_text = process_and_export_to_mongo(file_name)\n",
    "print(\"OCR Text:\\n\", ocr_text)\n"
   ]
  },
  {
   "cell_type": "code",
   "execution_count": null,
   "id": "e21891cb",
   "metadata": {},
   "outputs": [],
   "source": []
  },
  {
   "cell_type": "code",
   "execution_count": null,
   "id": "40373175",
   "metadata": {},
   "outputs": [],
   "source": []
  },
  {
   "cell_type": "code",
   "execution_count": null,
   "id": "a29bf75e",
   "metadata": {},
   "outputs": [],
   "source": []
  },
  {
   "cell_type": "code",
   "execution_count": null,
   "id": "c7bc3082",
   "metadata": {},
   "outputs": [],
   "source": []
  },
  {
   "cell_type": "code",
   "execution_count": null,
   "id": "8be10560",
   "metadata": {},
   "outputs": [],
   "source": []
  },
  {
   "cell_type": "code",
   "execution_count": null,
   "id": "813b2c7e",
   "metadata": {},
   "outputs": [],
   "source": []
  }
 ],
 "metadata": {
  "kernelspec": {
   "display_name": "Python 3",
   "language": "python",
   "name": "python3"
  },
  "language_info": {
   "codemirror_mode": {
    "name": "ipython",
    "version": 3
   },
   "file_extension": ".py",
   "mimetype": "text/x-python",
   "name": "python",
   "nbconvert_exporter": "python",
   "pygments_lexer": "ipython3",
   "version": "3.8.8"
  }
 },
 "nbformat": 4,
 "nbformat_minor": 5
}
